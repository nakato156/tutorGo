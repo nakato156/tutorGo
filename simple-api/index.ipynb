{
 "cells": [
  {
   "cell_type": "code",
   "execution_count": 1,
   "id": "ee3b036a",
   "metadata": {},
   "outputs": [
    {
     "name": "stdout",
     "output_type": "stream",
     "text": [
      "Collecting py-eureka-client\n",
      "  Using cached py_eureka_client-0.11.13-py3-none-any.whl.metadata (19 kB)\n",
      "Collecting ifaddr>=0.2.0 (from py-eureka-client)\n",
      "  Using cached ifaddr-0.2.0-py3-none-any.whl.metadata (4.9 kB)\n",
      "Collecting dnspython>=2.4.2 (from py-eureka-client)\n",
      "  Using cached dnspython-2.7.0-py3-none-any.whl.metadata (5.8 kB)\n",
      "Using cached py_eureka_client-0.11.13-py3-none-any.whl (33 kB)\n",
      "Using cached dnspython-2.7.0-py3-none-any.whl (313 kB)\n",
      "Using cached ifaddr-0.2.0-py3-none-any.whl (12 kB)\n",
      "Installing collected packages: ifaddr, dnspython, py-eureka-client\n",
      "Successfully installed dnspython-2.7.0 ifaddr-0.2.0 py-eureka-client-0.11.13\n"
     ]
    }
   ],
   "source": [
    "!pip install py-eureka-client"
   ]
  },
  {
   "cell_type": "code",
   "execution_count": 9,
   "id": "8da1496e",
   "metadata": {},
   "outputs": [
    {
     "name": "stdout",
     "output_type": "stream",
     "text": [
      "Collecting flask\n",
      "  Downloading flask-3.1.0-py3-none-any.whl.metadata (2.7 kB)\n",
      "Collecting Werkzeug>=3.1 (from flask)\n",
      "  Downloading werkzeug-3.1.3-py3-none-any.whl.metadata (3.7 kB)\n",
      "Collecting Jinja2>=3.1.2 (from flask)\n",
      "  Downloading jinja2-3.1.6-py3-none-any.whl.metadata (2.9 kB)\n",
      "Collecting itsdangerous>=2.2 (from flask)\n",
      "  Downloading itsdangerous-2.2.0-py3-none-any.whl.metadata (1.9 kB)\n",
      "Collecting click>=8.1.3 (from flask)\n",
      "  Using cached click-8.1.8-py3-none-any.whl.metadata (2.3 kB)\n",
      "Collecting blinker>=1.9 (from flask)\n",
      "  Using cached blinker-1.9.0-py3-none-any.whl.metadata (1.6 kB)\n",
      "Collecting MarkupSafe>=2.0 (from Jinja2>=3.1.2->flask)\n",
      "  Downloading MarkupSafe-3.0.2-cp312-cp312-manylinux_2_17_x86_64.manylinux2014_x86_64.whl.metadata (4.0 kB)\n",
      "Downloading flask-3.1.0-py3-none-any.whl (102 kB)\n",
      "Using cached blinker-1.9.0-py3-none-any.whl (8.5 kB)\n",
      "Using cached click-8.1.8-py3-none-any.whl (98 kB)\n",
      "Downloading itsdangerous-2.2.0-py3-none-any.whl (16 kB)\n",
      "Downloading jinja2-3.1.6-py3-none-any.whl (134 kB)\n",
      "Downloading werkzeug-3.1.3-py3-none-any.whl (224 kB)\n",
      "Downloading MarkupSafe-3.0.2-cp312-cp312-manylinux_2_17_x86_64.manylinux2014_x86_64.whl (23 kB)\n",
      "Installing collected packages: MarkupSafe, itsdangerous, click, blinker, Werkzeug, Jinja2, flask\n",
      "Successfully installed Jinja2-3.1.6 MarkupSafe-3.0.2 Werkzeug-3.1.3 blinker-1.9.0 click-8.1.8 flask-3.1.0 itsdangerous-2.2.0\n",
      "Note: you may need to restart the kernel to use updated packages.\n"
     ]
    }
   ],
   "source": [
    "pip install flask"
   ]
  },
  {
   "cell_type": "code",
   "execution_count": 23,
   "id": "759b9a81",
   "metadata": {},
   "outputs": [
    {
     "name": "stdout",
     "output_type": "stream",
     "text": [
      "[2025-04-17 22:34:07]-[MainThread]-[eureka_client:1107] WARNING: A client is already running, try to stop it and start the new one!\n"
     ]
    }
   ],
   "source": [
    "import asyncio\n",
    "import py_eureka_client.eureka_client as eureka_client\n",
    "\n",
    "async def register_to_eureka():\n",
    "    await eureka_client.stop_async()  # Por si ya hay una instancia corriendo\n",
    "    await eureka_client.init_async(\n",
    "        eureka_server=\"http://localhost:8099/eureka,http://172.29.88.29:8099/eureka\",\n",
    "        app_name=\"Alumnos\",\n",
    "        instance_port=8099\n",
    "    )\n",
    "\n",
    "await register_to_eureka()\n"
   ]
  },
  {
   "cell_type": "code",
   "execution_count": 25,
   "id": "0a385aaa",
   "metadata": {},
   "outputs": [
    {
     "name": "stdout",
     "output_type": "stream",
     "text": [
      "Collecting fastapi\n",
      "  Downloading fastapi-0.115.12-py3-none-any.whl.metadata (27 kB)\n",
      "Collecting uvicorn\n",
      "  Downloading uvicorn-0.34.1-py3-none-any.whl.metadata (6.5 kB)\n",
      "Collecting starlette<0.47.0,>=0.40.0 (from fastapi)\n",
      "  Downloading starlette-0.46.2-py3-none-any.whl.metadata (6.2 kB)\n",
      "Collecting pydantic!=1.8,!=1.8.1,!=2.0.0,!=2.0.1,!=2.1.0,<3.0.0,>=1.7.4 (from fastapi)\n",
      "  Downloading pydantic-2.11.3-py3-none-any.whl.metadata (65 kB)\n",
      "Collecting typing-extensions>=4.8.0 (from fastapi)\n",
      "  Downloading typing_extensions-4.13.2-py3-none-any.whl.metadata (3.0 kB)\n",
      "Requirement already satisfied: click>=7.0 in /home/chris/IdeaProjects/TutorGo-project/.venv/lib/python3.12/site-packages (from uvicorn) (8.1.8)\n",
      "Collecting h11>=0.8 (from uvicorn)\n",
      "  Downloading h11-0.14.0-py3-none-any.whl.metadata (8.2 kB)\n",
      "Collecting annotated-types>=0.6.0 (from pydantic!=1.8,!=1.8.1,!=2.0.0,!=2.0.1,!=2.1.0,<3.0.0,>=1.7.4->fastapi)\n",
      "  Downloading annotated_types-0.7.0-py3-none-any.whl.metadata (15 kB)\n",
      "Collecting pydantic-core==2.33.1 (from pydantic!=1.8,!=1.8.1,!=2.0.0,!=2.0.1,!=2.1.0,<3.0.0,>=1.7.4->fastapi)\n",
      "  Downloading pydantic_core-2.33.1-cp312-cp312-manylinux_2_17_x86_64.manylinux2014_x86_64.whl.metadata (6.8 kB)\n",
      "Collecting typing-inspection>=0.4.0 (from pydantic!=1.8,!=1.8.1,!=2.0.0,!=2.0.1,!=2.1.0,<3.0.0,>=1.7.4->fastapi)\n",
      "  Downloading typing_inspection-0.4.0-py3-none-any.whl.metadata (2.6 kB)\n",
      "Collecting anyio<5,>=3.6.2 (from starlette<0.47.0,>=0.40.0->fastapi)\n",
      "  Downloading anyio-4.9.0-py3-none-any.whl.metadata (4.7 kB)\n",
      "Collecting idna>=2.8 (from anyio<5,>=3.6.2->starlette<0.47.0,>=0.40.0->fastapi)\n",
      "  Using cached idna-3.10-py3-none-any.whl.metadata (10 kB)\n",
      "Collecting sniffio>=1.1 (from anyio<5,>=3.6.2->starlette<0.47.0,>=0.40.0->fastapi)\n",
      "  Downloading sniffio-1.3.1-py3-none-any.whl.metadata (3.9 kB)\n",
      "Downloading fastapi-0.115.12-py3-none-any.whl (95 kB)\n",
      "Downloading uvicorn-0.34.1-py3-none-any.whl (62 kB)\n",
      "Downloading h11-0.14.0-py3-none-any.whl (58 kB)\n",
      "Downloading pydantic-2.11.3-py3-none-any.whl (443 kB)\n",
      "Downloading pydantic_core-2.33.1-cp312-cp312-manylinux_2_17_x86_64.manylinux2014_x86_64.whl (2.0 MB)\n",
      "\u001b[2K   \u001b[90m━━━━━━━━━━━━━━━━━━━━━━━━━━━━━━━━━━━━━━━━\u001b[0m \u001b[32m2.0/2.0 MB\u001b[0m \u001b[31m46.5 MB/s\u001b[0m eta \u001b[36m0:00:00\u001b[0m\n",
      "\u001b[?25hDownloading starlette-0.46.2-py3-none-any.whl (72 kB)\n",
      "Downloading typing_extensions-4.13.2-py3-none-any.whl (45 kB)\n",
      "Downloading annotated_types-0.7.0-py3-none-any.whl (13 kB)\n",
      "Downloading anyio-4.9.0-py3-none-any.whl (100 kB)\n",
      "Downloading typing_inspection-0.4.0-py3-none-any.whl (14 kB)\n",
      "Using cached idna-3.10-py3-none-any.whl (70 kB)\n",
      "Downloading sniffio-1.3.1-py3-none-any.whl (10 kB)\n",
      "Installing collected packages: typing-extensions, sniffio, idna, h11, annotated-types, uvicorn, typing-inspection, pydantic-core, anyio, starlette, pydantic, fastapi\n",
      "Successfully installed annotated-types-0.7.0 anyio-4.9.0 fastapi-0.115.12 h11-0.14.0 idna-3.10 pydantic-2.11.3 pydantic-core-2.33.1 sniffio-1.3.1 starlette-0.46.2 typing-extensions-4.13.2 typing-inspection-0.4.0 uvicorn-0.34.1\n",
      "Note: you may need to restart the kernel to use updated packages.\n"
     ]
    }
   ],
   "source": [
    "pip install fastapi uvicorn"
   ]
  },
  {
   "cell_type": "code",
   "execution_count": 26,
   "id": "7037f31c",
   "metadata": {},
   "outputs": [],
   "source": [
    "from fastapi import FastAPI, HTTPException\n",
    "from pydantic import BaseModel"
   ]
  },
  {
   "cell_type": "code",
   "execution_count": null,
   "id": "e01066b7",
   "metadata": {},
   "outputs": [],
   "source": [
    "app = FastAPI()\n",
    "\n",
    "\n",
    "class Alumno(BaseModel):\n",
    "    nombre: str\n",
    "    correo: str\n",
    "    contrasena: str\n",
    "\n",
    "alumnos_registrados = []\n",
    "\n",
    "@app.post(\"/registrar\")\n",
    "def registrar_alumno(alumno: Alumno):\n",
    "    if not alumno.nombre or not alumno.correo or not alumno.contrasena:\n",
    "        raise HTTPException(status_code=400, detail=\"Todos los campos son obligatorios\")\n",
    "\n",
    "    alumno_data = {\n",
    "        \"id\": len(alumnos_registrados) + 1,\n",
    "        \"nombre\": alumno.nombre,\n",
    "        \"correo\": alumno.correo,\n",
    "        \"contrasena\": alumno.contrasena  \n",
    "    }\n",
    "\n",
    "    alumnos_registrados.append(alumno_data)\n",
    "    return {\"mensaje\": \"Alumno registrado exitosamente\", \"alumno\": alumno_data}"
   ]
  },
  {
   "cell_type": "code",
   "execution_count": null,
   "id": "0d881297",
   "metadata": {},
   "outputs": [],
   "source": [
    "def login_alumno(alumno: Alumno):\n",
    "   \n",
    "    alumno_encontrado = next((a for a in alumnos_registrados if a[\"correo\"] == alumno.correo), None)\n",
    "\n",
    "    if alumno_encontrado is None:\n",
    "        raise HTTPException(status_code=404, detail=\"Alumno no encontrado\")\n",
    "\n",
    "    if alumno_encontrado[\"contrasena\"] != alumno.contrasena:\n",
    "        raise HTTPException(status_code=401, detail=\"Contraseña incorrecta\")\n",
    "    return {\"mensaje\": \"Login exitoso\", \"alumno\": alumno_encontrado}"
   ]
  }
 ],
 "metadata": {
  "kernelspec": {
   "display_name": ".venv",
   "language": "python",
   "name": "python3"
  },
  "language_info": {
   "codemirror_mode": {
    "name": "ipython",
    "version": 3
   },
   "file_extension": ".py",
   "mimetype": "text/x-python",
   "name": "python",
   "nbconvert_exporter": "python",
   "pygments_lexer": "ipython3",
   "version": "3.12.3"
  }
 },
 "nbformat": 4,
 "nbformat_minor": 5
}
